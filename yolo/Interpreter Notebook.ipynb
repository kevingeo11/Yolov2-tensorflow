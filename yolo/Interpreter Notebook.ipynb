{
 "cells": [
  {
   "cell_type": "code",
   "execution_count": null,
   "id": "d031b645",
   "metadata": {},
   "outputs": [],
   "source": [
    "import numpy as np\n",
    "import tensorflow as tf\n",
    "from os.path import join\n",
    "import matplotlib.pyplot as plt\n",
    "\n",
    "from utils import config\n",
    "from nets import network as nn"
   ]
  },
  {
   "cell_type": "code",
   "execution_count": null,
   "id": "1d50f396",
   "metadata": {},
   "outputs": [],
   "source": [
    "from tensorflow.keras.models import load_model"
   ]
  },
  {
   "cell_type": "code",
   "execution_count": null,
   "id": "5b684b87",
   "metadata": {},
   "outputs": [],
   "source": [
    "_config_ = config.config()"
   ]
  },
  {
   "cell_type": "code",
   "execution_count": null,
   "id": "66ecf9d8",
   "metadata": {},
   "outputs": [],
   "source": [
    "model = nn.build_model(_config_)\n",
    "weight_loc = join('weights loc', 'weights.h5')\n",
    "model.load_weights(weight_loc)"
   ]
  },
  {
   "cell_type": "code",
   "execution_count": null,
   "id": "e4892231",
   "metadata": {},
   "outputs": [],
   "source": [
    "from helpers.inference import inference"
   ]
  },
  {
   "cell_type": "code",
   "execution_count": null,
   "id": "f8a92938",
   "metadata": {},
   "outputs": [],
   "source": [
    "inference = inference(_config_, model)"
   ]
  },
  {
   "cell_type": "code",
   "execution_count": null,
   "id": "36a0ae53",
   "metadata": {},
   "outputs": [],
   "source": [
    "img_loc = '\\\\location of image\\\\image.jpg'\n",
    "ypred = inference.run(img_loc)"
   ]
  },
  {
   "cell_type": "code",
   "execution_count": null,
   "id": "fabc6319",
   "metadata": {},
   "outputs": [],
   "source": [
    "figsize = (7,7)\n",
    "plt.figure(figsize=figsize)\n",
    "plt.imshow(ypred); \n",
    "plt.show()"
   ]
  },
  {
   "cell_type": "code",
   "execution_count": null,
   "id": "0e2e2910",
   "metadata": {},
   "outputs": [],
   "source": []
  }
 ],
 "metadata": {
  "kernelspec": {
   "display_name": "base-env",
   "language": "python",
   "name": "base-env"
  },
  "language_info": {
   "codemirror_mode": {
    "name": "ipython",
    "version": 3
   },
   "file_extension": ".py",
   "mimetype": "text/x-python",
   "name": "python",
   "nbconvert_exporter": "python",
   "pygments_lexer": "ipython3",
   "version": "3.10.6"
  }
 },
 "nbformat": 4,
 "nbformat_minor": 5
}
